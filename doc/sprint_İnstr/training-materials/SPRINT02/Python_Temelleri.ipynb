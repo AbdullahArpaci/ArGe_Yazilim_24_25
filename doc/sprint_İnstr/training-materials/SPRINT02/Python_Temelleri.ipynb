{
 "cells": [
  {
   "cell_type": "markdown",
   "id": "89f15089",
   "metadata": {},
   "source": [
    "# **Python ve Yazılım Kuralları Eğitimi**"
   ]
  },
  {
   "cell_type": "markdown",
   "id": "6f76be7b",
   "metadata": {},
   "source": [
    "## **1. Python Temelleri**"
   ]
  },
  {
   "cell_type": "markdown",
   "id": "e4a73b38",
   "metadata": {},
   "source": [
    "### **1.1 Değişkenler ve Veri Tipleri**"
   ]
  },
  {
   "cell_type": "code",
   "execution_count": null,
   "id": "1ae577f6",
   "metadata": {},
   "outputs": [],
   "source": [
    "# Değişken tanımlama\n",
    "isim = \"Ali\"\n",
    "yas = 25\n",
    "print(f\"{isim}, {yas} yaşında.\")"
   ]
  },
  {
   "cell_type": "markdown",
   "id": "04360c80",
   "metadata": {},
   "source": [
    "- **Veri Tipleri:** `int`, `float`, `str`, `list`, `dict`, `bool`\n",
    "- **Tip kontrolü:** `type()` fonksiyonu kullanılır."
   ]
  },
  {
   "cell_type": "markdown",
   "id": "188c688f",
   "metadata": {},
   "source": [
    "### **1.2 Kontrol Yapıları**"
   ]
  },
  {
   "cell_type": "code",
   "execution_count": null,
   "id": "85c6ef0b",
   "metadata": {},
   "outputs": [],
   "source": [
    "if yas > 18:\n",
    "    print(\"Yetişkinsiniz.\")\n",
    "else:\n",
    "    print(\"Çocuksunuz.\")"
   ]
  },
  {
   "cell_type": "markdown",
   "id": "509728c8",
   "metadata": {},
   "source": [
    "### **1.3 Döngüler**"
   ]
  },
  {
   "cell_type": "code",
   "execution_count": null,
   "id": "14c97043",
   "metadata": {},
   "outputs": [],
   "source": [
    "for i in range(5):\n",
    "    print(f\"Sayı: {i}\")"
   ]
  },
  {
   "cell_type": "markdown",
   "id": "12dd57ba",
   "metadata": {},
   "source": [
    "### **1.4 Fonksiyonlar**"
   ]
  },
  {
   "cell_type": "code",
   "execution_count": null,
   "id": "1272476a",
   "metadata": {},
   "outputs": [],
   "source": [
    "def topla(a, b):\n",
    "    return a + b\n",
    "\n",
    "print(topla(3, 5))"
   ]
  },
  {
   "cell_type": "markdown",
   "id": "18139bfe",
   "metadata": {},
   "source": [
    "## **2. Yazılım Geliştirme Kuralları**"
   ]
  },
  {
   "cell_type": "markdown",
   "id": "5bc12183",
   "metadata": {},
   "source": [
    "### **2.1 Yazım Standartları (PEP 8)**"
   ]
  },
  {
   "cell_type": "code",
   "execution_count": null,
   "id": "376237ae",
   "metadata": {},
   "outputs": [],
   "source": [
    "# Değişken Adlandırma\n",
    "ogrenci_sayisi = 50\n",
    "# Operatörlerde boşluk kullanımı\n",
    "toplam = 5 + 3"
   ]
  },
  {
   "cell_type": "markdown",
   "id": "d5b94caf",
   "metadata": {},
   "source": [
    "### **2.2 Yorum Satırları ve Dokümantasyon**"
   ]
  },
  {
   "cell_type": "code",
   "execution_count": null,
   "id": "b87b4e29",
   "metadata": {},
   "outputs": [],
   "source": [
    "# Yorum satırı örneği\n",
    "# Öğrenci yaşlarını listele\n",
    "yaslar = [18, 21, 19, 23]\n",
    "\n",
    "# Fonksiyon dokümantasyonu örneği\n",
    "def topla(a, b):\n",
    "    \"\"\"\n",
    "    İki sayıyı toplar.\n",
    "    :param a: İlk sayı\n",
    "    :param b: İkinci sayı\n",
    "    :return: Toplam\n",
    "    \"\"\"\n",
    "    return a + b"
   ]
  },
  {
   "cell_type": "markdown",
   "id": "4d7c27cb",
   "metadata": {},
   "source": [
    "### **2.3 Modüler Kod Yazımı**"
   ]
  },
  {
   "cell_type": "code",
   "execution_count": null,
   "id": "99f8ca40",
   "metadata": {},
   "outputs": [],
   "source": [
    "def selamla(isim):\n",
    "    print(f\"Merhaba, {isim}!\")\n",
    "\n",
    "selamla(\"Ali\")\n",
    "selamla(\"Ayşe\")"
   ]
  },
  {
   "cell_type": "markdown",
   "id": "3d3252bb",
   "metadata": {},
   "source": [
    "## **3. Örnekler**"
   ]
  },
  {
   "cell_type": "markdown",
   "id": "d822dff0",
   "metadata": {},
   "source": [
    "### **3.1 Kod Kalitesini Test Etme**"
   ]
  },
  {
   "cell_type": "code",
   "execution_count": null,
   "id": "bb347194",
   "metadata": {},
   "outputs": [],
   "source": [
    "def kare_al(x):\n",
    "    \"\"\"\n",
    "    Bir sayının karesini alır.\n",
    "    \"\"\"\n",
    "    if isinstance(x, (int, float)):\n",
    "        return x ** 2\n",
    "    else:\n",
    "        raise ValueError(\"Sadece sayı girilebilir.\")\n",
    "\n",
    "print(kare_al(4))  # 16"
   ]
  },
  {
   "cell_type": "markdown",
   "id": "51fcd263",
   "metadata": {},
   "source": [
    "### **3.2 Loglama Kullanımı**"
   ]
  },
  {
   "cell_type": "code",
   "execution_count": null,
   "id": "f831edc7",
   "metadata": {},
   "outputs": [],
   "source": [
    "import logging\n",
    "\n",
    "logging.basicConfig(level=logging.INFO)\n",
    "logging.info(\"Bu bir bilgilendirme mesajıdır.\")\n",
    "logging.error(\"Bu bir hata mesajıdır.\")"
   ]
  },
  {
   "cell_type": "markdown",
   "id": "d08b799c",
   "metadata": {},
   "source": [
    "### **3.3 Birim Testleri**"
   ]
  },
  {
   "cell_type": "code",
   "execution_count": null,
   "id": "ff54a491",
   "metadata": {},
   "outputs": [],
   "source": [
    "import unittest\n",
    "\n",
    "# Test edilecek fonksiyon\n",
    "def topla(a, b):\n",
    "    return a + b\n",
    "\n",
    "# Test sınıfı\n",
    "class TestTopla(unittest.TestCase):\n",
    "    def test_topla(self):\n",
    "        self.assertEqual(topla(2, 3), 5)  # Doğru sonuç testi\n",
    "        self.assertEqual(topla(-1, 1), 0)  # Başka bir doğru sonuç testi\n",
    "\n",
    "# Testlerin çalıştırılması\n",
    "if __name__ == \"__main__\":\n",
    "    unittest.main(argv=['first-arg-is-ignored'], exit=False)\n"
   ]
  },
  {
   "cell_type": "markdown",
   "id": "097ddb42",
   "metadata": {},
   "source": [
    "1. Fonksiyon: hesapla\n",
    "Bu fonksiyon, verilen bir sayı listesi üzerinde toplam, ortalama, sıralama, en küçük ve en büyük sayıları hesaplar."
   ]
  },
  {
   "cell_type": "code",
   "execution_count": null,
   "id": "ba14c0a0",
   "metadata": {},
   "outputs": [],
   "source": [
    "def hesapla(sayilar):\n",
    "    if not sayilar:\n",
    "        raise ValueError(\"Liste boş olamaz\")\n",
    "    \n",
    "    toplam = sum(sayilar)\n",
    "    ortalama = toplam / len(sayilar)\n",
    "    sayilar.sort()\n",
    "    min_sayi = sayilar[0]\n",
    "    max_sayi = sayilar[-1]\n",
    "    \n",
    "    return toplam, ortalama, sayilar, min_sayi, max_sayi\n"
   ]
  },
  {
   "cell_type": "markdown",
   "id": "41eef762",
   "metadata": {},
   "source": [
    "2. Test Sınıfı: TestHesapla\n",
    "Bu sınıf, hesapla fonksiyonunun doğru çalışıp çalışmadığını test eder."
   ]
  },
  {
   "cell_type": "code",
   "execution_count": null,
   "id": "d2fbc219",
   "metadata": {},
   "outputs": [],
   "source": [
    "import unittest\n",
    "\n",
    "class TestHesapla(unittest.TestCase):\n",
    "\n",
    "    def test_hesapla(self):\n",
    "        # Normal bir test - doğru sonuçlar bekliyoruz\n",
    "        sayilar = [5, 3, 9, 1, 4]\n",
    "        toplam, ortalama, sirali_liste, min_sayi, max_sayi = hesapla(sayilar)\n",
    "        \n",
    "        self.assertEqual(toplam, 22)  # 5 + 3 + 9 + 1 + 4 = 22\n",
    "        self.assertEqual(ortalama, 4.4)  # 22 / 5 = 4.4\n",
    "        self.assertEqual(sirali_liste, [1, 3, 4, 5, 9])  # Sayılar sıralanmış olmalı\n",
    "        self.assertEqual(min_sayi, 1)  # En küçük sayı 1\n",
    "        self.assertEqual(max_sayi, 9)  # En büyük sayı 9\n",
    "\n",
    "    def test_bos_liste(self):\n",
    "        # Boş liste durumunu test ediyoruz\n",
    "        with self.assertRaises(ValueError):\n",
    "            hesapla([])\n",
    "\n",
    "    def test_negatif_sayilar(self):\n",
    "        # Negatif sayılarla işlem yapalım\n",
    "        sayilar = [-5, -3, -9, -1, -4]\n",
    "        toplam, ortalama, sirali_liste, min_sayi, max_sayi = hesapla(sayilar)\n",
    "\n",
    "        self.assertEqual(toplam, -22)  # -5 + (-3) + (-9) + (-1) + (-4) = -22\n",
    "        self.assertEqual(ortalama, -4.4)  # -22 / 5 = -4.4\n",
    "        self.assertEqual(sirali_liste, [-9, -5, -4, -3, -1])  # Sayılar sıralanmış olmalı\n",
    "        self.assertEqual(min_sayi, -9)  # En küçük sayı -9\n",
    "        self.assertEqual(max_sayi, -1)  # En büyük sayı -1\n",
    "\n",
    "    def test_flot_sayilar(self):\n",
    "        # Ondalıklı sayılarla işlem yapalım\n",
    "        sayilar = [5.5, 3.3, 9.9, 1.1, 4.4]\n",
    "        toplam, ortalama, sirali_liste, min_sayi, max_sayi = hesapla(sayilar)\n",
    "\n",
    "        # assertEqual yerine assertAlmostEqual kullanalım\n",
    "        self.assertAlmostEqual(toplam, 24.2, places=1)  # 24.200000000000003'e karşı 24.2'yi 1 basamağa kadar kontrol et\n",
    "        self.assertAlmostEqual(ortalama, 4.84, places=2)  # 4.840000000000001'e karşı 4.84'ü 2 basamağa kadar kontrol et\n",
    "        self.assertEqual(sirali_liste, [1.1, 3.3, 4.4, 5.5, 9.9])  # Sayılar sıralanmış olmalı\n",
    "        self.assertEqual(min_sayi, 1.1)  # En küçük sayı 1.1\n",
    "        self.assertEqual(max_sayi, 9.9)  # En büyük sayı 9.9\n",
    "\n",
    "\n",
    "if __name__ == \"__main__\":\n",
    "    unittest.main(argv=['first-arg-is-ignored'], exit=False)\n"
   ]
  },
  {
   "cell_type": "markdown",
   "id": "3ee17ddf",
   "metadata": {},
   "source": [
    "##Açıklamalar:\n",
    "assertAlmostEqual(a, b, places=n): Bu fonksiyon, a ve b değerlerini karşılaştırırken yalnızca ilk n ondalık basamağa kadar dikkate alır. Bu, ondalıklı sayılarla yapılan işlemlerdeki küçük yuvarlama hatalarının etkisini ortadan kaldırır.\n",
    "\n",
    "places=1: Toplamın 24.2 olması bekleniyor, fakat 24.200000000000003 şeklinde bir sonuç dönebilir. Bu yüzden places=1 kullanarak, yalnızca 1 ondalık basamağa kadar kıyaslama yapıyoruz.\n",
    "\n",
    "places=2: Ortalama değeri için de aynı mantıkla, 2 ondalık basamağa kadar karşılaştırma yapıyoruz."
   ]
  },
  {
   "cell_type": "code",
   "execution_count": null,
   "id": "7e38594a",
   "metadata": {},
   "outputs": [],
   "source": [
    "import unittest\n",
    "\n",
    "def hesapla(sayilar):\n",
    "    # Hatalı işlem (beklenenden farklı bir sonuç döner)\n",
    "    toplam = sum(sayilar) + 0.1  # Toplama yanlışlık ekliyoruz\n",
    "    ortalama = toplam / len(sayilar)\n",
    "    sirali_liste = sorted(sayilar)\n",
    "    min_sayi = min(sayilar)\n",
    "    max_sayi = max(sayilar)\n",
    "    return toplam, ortalama, sirali_liste, min_sayi, max_sayi\n",
    "\n",
    "class TestHesapla(unittest.TestCase):\n",
    "    \n",
    "    def test_flot_sayilar(self):\n",
    "        sayilar = [5.5, 3.3, 9.9, 1.1, 4.4]\n",
    "        toplam, ortalama, sirali_liste, min_sayi, max_sayi = hesapla(sayilar)\n",
    "\n",
    "        # Burada bilerek hata yapıyoruz\n",
    "        self.assertAlmostEqual(toplam, 24.2, places=1)  # Beklenen değer 24.2 ama toplam 24.3\n",
    "        self.assertAlmostEqual(ortalama, 4.84, places=2)  # Bu da doğru olmalıydı ama yanlış dönecek\n",
    "        self.assertEqual(sirali_liste, [1.1, 3.3, 4.4, 5.5, 9.9])  # Bu doğru\n",
    "        self.assertEqual(min_sayi, 1.1)  # Bu doğru\n",
    "        self.assertEqual(max_sayi, 9.9)  # Bu doğru\n",
    "\n",
    "if __name__ == \"__main__\":\n",
    "    # Jupyter Notebook'ta 'unittest.main()' kullanımı yerine manuel çalıştırma:\n",
    "    suite = unittest.TestLoader().loadTestsFromTestCase(TestHesapla)\n",
    "    unittest.TextTestRunner().run(suite)\n"
   ]
  },
  {
   "cell_type": "markdown",
   "id": "ac94aac2",
   "metadata": {},
   "source": [
    "Ne Öğrendik?\n",
    "Hatalı bir senaryo, testin başarısız olduğuna dair önemli bilgiler verir.\n",
    "AssertionError: Bu hata, beklenen ve gerçek sonuç arasındaki farkı gösterir.\n",
    "Neden başarısız oldu?: Bu örnekte, hatalı işlem nedeniyle beklediğimiz sonuç ile gerçek sonuç eşleşmedi."
   ]
  }
 ],
 "metadata": {
  "kernelspec": {
   "display_name": "Python 3 (ipykernel)",
   "language": "python",
   "name": "python3"
  },
  "language_info": {
   "codemirror_mode": {
    "name": "ipython",
    "version": 3
   },
   "file_extension": ".py",
   "mimetype": "text/x-python",
   "name": "python",
   "nbconvert_exporter": "python",
   "pygments_lexer": "ipython3",
   "version": "3.11.3"
  }
 },
 "nbformat": 4,
 "nbformat_minor": 5
}
