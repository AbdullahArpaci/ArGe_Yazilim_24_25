{
 "cells": [
  {
   "cell_type": "markdown",
   "id": "a144589d",
   "metadata": {},
   "source": [
    "\n",
    "        # Python Temelleri: Başlangıç Eğitimi\n",
    "\n",
    "        Bu eğitim, Python dilinin temel yapı taşlarını öğrenmek ve uygulamak isteyenler için hazırlanmıştır. \n",
    "        Eğitim boyunca görseller ve interaktif örnekler yer alacaktır.\n",
    "        "
   ]
  },
  {
   "cell_type": "markdown",
   "id": "4dc991e3",
   "metadata": {},
   "source": [
    "## 1. Değişkenler ve Veri Türleri\n",
    "\n",
    "Python'da değişkenler, değerleri bellekte saklamak için kullanılan isimlendirilmiş alanlardır.\n",
    "Veri türleri ise bu değişkenlerin ne tür veri içerdiğini belirtir.\n",
    "\n",
    "**Örnek Veri Türleri:**\n",
    "- `int` (Tamsayı): 10, -5\n",
    "- `float` (Ondalıklı sayı): 3.14, -0.5\n",
    "- `str` (Metin): \"Merhaba\"\n",
    "- `bool` (Mantıksal): `True`, `False`\n"
   ]
  },
  {
   "cell_type": "code",
   "execution_count": null,
   "id": "d36137ad",
   "metadata": {},
   "outputs": [],
   "source": [
    "\n",
    "# Değişken tanımlama örnekleri\n",
    "sayi = 10         # int\n",
    "oran = 3.14       # float\n",
    "metin = \"Merhaba\" # str\n",
    "durum = True      # bool\n",
    "\n",
    "# Değişkenlerin türünü kontrol etme\n",
    "print(type(sayi))\n",
    "print(type(oran))\n",
    "print(type(metin))\n",
    "print(type(durum))\n",
    "        "
   ]
  },
  {
   "cell_type": "markdown",
   "id": "d25924cf",
   "metadata": {},
   "source": [
    "## 2. Koşullu İfadeler\n",
    "\n",
    "Python'da koşullu ifadeler, belirli bir koşulun doğru veya yanlış olmasına göre farklı kod bloklarını çalıştırmamızı sağlar.\n",
    "\n",
    "**Yapı:**\n",
    "```python\n",
    "if koşul:\n",
    "    # koşul doğruysa çalışacak kod\n",
    "elif başka_koşul:\n",
    "    # başka koşul doğruysa çalışacak kod\n",
    "else:\n",
    "    # tüm koşullar yanlışsa çalışacak kod\n"
   ]
  },
  {
   "cell_type": "code",
   "execution_count": null,
   "id": "e2e9b363",
   "metadata": {},
   "outputs": [],
   "source": [
    "\n",
    "# Sayı pozitif, negatif veya sıfır mı?\n",
    "sayi = int(input(\"Bir sayı girin: \"))\n",
    "\n",
    "if sayi > 0:\n",
    "    print(\"Pozitif bir sayı girdiniz.\")\n",
    "elif sayi < 0:\n",
    "    print(\"Negatif bir sayı girdiniz.\")\n",
    "else:\n",
    "    print(\"Sıfır girdiniz.\")\n",
    "        "
   ]
  },
  {
   "cell_type": "markdown",
   "id": "5561e192",
   "metadata": {},
   "source": [
    "## 3. Döngüler\n",
    "\n",
    "Döngüler, bir kod bloğunu birden fazla kez çalıştırmak için kullanılır. Python'da en yaygın kullanılan döngüler `for` ve `while` döngüleridir.\n",
    "\n",
    "**Örnek:**\n",
    "```python\n",
    "# 1'den 5'e kadar sayıları yazdır\n",
    "for i in range(1, 6):\n",
    "    print(i)\n"
   ]
  },
  {
   "cell_type": "code",
   "execution_count": null,
   "id": "42c466d2",
   "metadata": {},
   "outputs": [],
   "source": [
    "\n",
    "# 1'den 5'e kadar olan sayıları yazdır\n",
    "for i in range(1, 6):\n",
    "    print(f\"Sayı: {i}\")\n",
    "        "
   ]
  },
  {
   "cell_type": "markdown",
   "id": "67cbe0a6",
   "metadata": {},
   "source": [
    "## 4. Fonksiyonlar\n",
    "\n",
    "Fonksiyonlar, bir kod bloğunu tekrar tekrar kullanmamızı sağlayan yapılardır.\n",
    "\n",
    "**Örnek:**\n",
    "```python\n",
    "def kare_al(sayi):\n",
    "    return sayi ** 2\n",
    "print(kare_al(5))\n"
   ]
  },
  {
   "cell_type": "code",
   "execution_count": null,
   "id": "0903a235",
   "metadata": {},
   "outputs": [],
   "source": [
    "\n",
    "# Bir sayının karesini hesaplayan fonksiyon\n",
    "def kare_al(sayi):\n",
    "    return sayi ** 2\n",
    "\n",
    "# Kullanım\n",
    "print(\"5'in karesi:\", kare_al(5))\n",
    "        "
   ]
  },
  {
   "cell_type": "markdown",
   "id": "d0f00dcb",
   "metadata": {},
   "source": [
    "## 5. Veri Yapıları\n",
    "\n",
    "Python'da sık kullanılan veri yapıları:\n",
    "- **Liste (`list`)**: Sıralı ve değiştirilebilir veri yapısı.\n",
    "- **Sözlük (`dict`)**: Anahtar-değer çiftlerini saklar.\n",
    "- **Küme (`set`)**: Eşsiz değerlerden oluşur.\n",
    "- **Demet (`tuple`)**: Sıralı ancak değiştirilemez.\n",
    "\n",
    "**Örnek:**\n",
    "```python\n",
    "liste = [1, 2, 3]\n",
    "sözlük = {\"ad\": \"Ahmet\", \"yaş\": 25}\n",
    "küme = {1, 2, 3}\n",
    "demet = (1, 2, 3)\n"
   ]
  },
  {
   "cell_type": "code",
   "execution_count": null,
   "id": "6ac91434",
   "metadata": {},
   "outputs": [],
   "source": [
    "\n",
    "# Liste örneği\n",
    "meyveler = [\"elma\", \"armut\", \"çilek\"]\n",
    "print(\"Meyve Listesi:\", meyveler)\n",
    "\n",
    "# Sözlük örneği\n",
    "kisi = {\"ad\": \"Ahmet\", \"yaş\": 25}\n",
    "print(\"Kişi Bilgileri:\", kisi)\n",
    "        "
   ]
  },
  {
   "cell_type": "markdown",
   "id": "06516424",
   "metadata": {},
   "source": [
    "## 6. Listeler ve Liste Yöntemleri\n",
    "\n",
    "Listeler, birden fazla öğeyi sıralı olarak tutan veri yapılarıdır. Python'da listeler değiştirilebilir (mutable) ve çeşitli yöntemler sunar.\n",
    "\n",
    "**Örnek Yöntemler:**\n",
    "- `append()`: Listeye yeni bir öğe ekler.\n",
    "- `remove()`: Listeden bir öğe çıkarır.\n",
    "- `pop()`: Son öğeyi çıkarır ve döndürür.\n",
    "- `len()`: Listenin uzunluğunu döndürür.\n",
    "\n",
    "**Örnek:**\n",
    "```python\n",
    "meyveler = [\"elma\", \"armut\", \"çilek\"]\n",
    "meyveler.append(\"muz\")      # Yeni meyve ekleme\n",
    "meyveler.remove(\"armut\")    # Armutu çıkarma\n",
    "son_meyve = meyveler.pop()   # Son meyveyi çıkarma\n",
    "uzunluk = len(meyveler)     # Liste uzunluğunu alma\n"
   ]
  },
  {
   "cell_type": "code",
   "execution_count": 1,
   "id": "613e4133",
   "metadata": {},
   "outputs": [
    {
     "name": "stdout",
     "output_type": "stream",
     "text": [
      "Güncellenmiş liste: ['elma', 'çilek']\n",
      "Çıkarılan son meyve: muz\n",
      "Liste uzunluğu: 2\n"
     ]
    }
   ],
   "source": [
    "\n",
    "# Liste örneği ve yöntemler\n",
    "meyveler = [\"elma\", \"armut\", \"çilek\"]\n",
    "meyveler.append(\"muz\")      # Yeni meyve ekleme\n",
    "meyveler.remove(\"armut\")    # Armutu çıkarma\n",
    "son_meyve = meyveler.pop()   # Son meyveyi çıkarma\n",
    "uzunluk = len(meyveler)     # Liste uzunluğunu alma\n",
    "\n",
    "print(\"Güncellenmiş liste:\", meyveler)\n",
    "print(\"Çıkarılan son meyve:\", son_meyve)\n",
    "print(\"Liste uzunluğu:\", uzunluk)\n"
   ]
  },
  {
   "cell_type": "markdown",
   "id": "c8aa64c1",
   "metadata": {},
   "source": [
    "## 7. Sözlükler (Dictionaries)\n",
    "\n",
    "Sözlükler, anahtar-değer çiftlerini saklayan veri yapılandırmalarıdır. Her anahtar benzersiz olmalıdır.\n",
    "\n",
    "**Örnek Yöntemler:**\n",
    "- `keys()`: Sözlüğün anahtarlarını döndürür.\n",
    "- `values()`: Sözlüğün değerlerini döndürür.\n",
    "- `get()`: Anahtara karşılık gelen değeri döndürür.\n",
    "\n",
    "**Örnek:**\n",
    "```python\n",
    "kisi = {\"ad\": \"Ahmet\", \"yaş\": 25, \"şehir\": \"İstanbul\"}\n",
    "print(kisi[\"ad\"])           # Anahtar ile değeri al\n",
    "print(kisi.get(\"yaş\"))      # get() ile değer al\n"
   ]
  },
  {
   "cell_type": "markdown",
   "id": "8093f658",
   "metadata": {},
   "source": [
    "## 8. Fonksiyonlarda Varsayılan Değerler\n",
    "\n",
    "Bir fonksiyona parametre verirken varsayılan değerler tanımlanabilir. Bu, parametreye değer verilmezse varsayılan değerin kullanılmasını sağlar.\n",
    "\n",
    "**Örnek:**\n",
    "```python\n",
    "def selamla(isim=\"Misafir\"):\n",
    "    print(f\"Merhaba, {isim}!\")\n"
   ]
  },
  {
   "cell_type": "code",
   "execution_count": null,
   "id": "e7c51059",
   "metadata": {},
   "outputs": [],
   "source": [
    "\n",
    "def selamla(isim=\"Misafir\"):\n",
    "    print(f\"Merhaba, {isim}!\")\n",
    "\n",
    "# Fonksiyonu çağırma\n",
    "selamla()            # Varsayılan değer kullanılır\n",
    "selamla(\"Ahmet\")     # Parametre verilirse, o değer kullanılır\n"
   ]
  },
  {
   "cell_type": "markdown",
   "id": "e7e6c27c",
   "metadata": {},
   "source": [
    "## 9. Listelerde Döngü Kullanımı\n",
    "\n",
    "Listeler üzerinde döngü kullanarak her bir öğeye işlem yapabiliriz. Python'da bunun için genellikle `for` döngüsü kullanılır.\n",
    "\n",
    "**Örnek:**\n",
    "```python\n",
    "meyveler = [\"elma\", \"armut\", \"çilek\"]\n",
    "for meyve in meyveler:\n",
    "    print(meyve)\n"
   ]
  },
  {
   "cell_type": "code",
   "execution_count": null,
   "id": "becabb83",
   "metadata": {},
   "outputs": [],
   "source": [
    "\n",
    "# Liste üzerinde döngü kullanma\n",
    "meyveler = [\"elma\", \"armut\", \"çilek\"]\n",
    "for meyve in meyveler:\n",
    "    print(f\"Meyve: {meyve}\")\n"
   ]
  },
  {
   "cell_type": "markdown",
   "id": "f408b12d",
   "metadata": {},
   "source": [
    "## 10. Uygulama Soruları\n",
    "\n",
    "1. **Soru:** Bir kullanıcıdan iki sayı alın ve bu sayıları toplamak için bir fonksiyon yazın.\n",
    "2. **Soru:** Aşağıdaki listeyi ters çeviren bir fonksiyon yazın:\n",
    "    ```python\n",
    "    sayilar = [1, 2, 3, 4, 5]\n",
    "    ```\n",
    "3. **Soru:** Bir öğrencinin notlarını saklayan bir sözlük oluşturun ve bu sözlükteki tüm anahtarları (ders isimleri) listeleyin.\n",
    "4. **Soru:** Aşağıdaki listeyi alarak her öğe için iki katını yazdıran bir döngü oluşturun:\n",
    "    ```python\n",
    "    sayilar = [5, 10, 15, 20]\n",
    "    ```\n"
   ]
  },
  {
   "cell_type": "markdown",
   "id": "e90ada58",
   "metadata": {},
   "source": [
    "## 11. Fonksiyonlarda Varsayılan Değerler\n",
    "\n",
    "Bir fonksiyona parametre verirken varsayılan değerler tanımlanabilir. Bu, parametreye değer verilmezse varsayılan değerin kullanılmasını sağlar.\n",
    "\n",
    "**Örnek:**\n",
    "```python\n",
    "def selamla(isim=\"Misafir\"):\n",
    "    print(f\"Merhaba, {isim}!\")\n"
   ]
  },
  {
   "cell_type": "code",
   "execution_count": null,
   "id": "e95acdaa",
   "metadata": {},
   "outputs": [],
   "source": [
    "# Kod: Varsayılan parametre kullanımı\n",
    "\n",
    "def selamla(isim=\"Misafir\"):\n",
    "    print(f\"Merhaba, {isim}!\")\n",
    "\n",
    "selamla()            \n",
    "selamla(\"Ahmet\")     \n"
   ]
  },
  {
   "cell_type": "markdown",
   "id": "948d9e9c",
   "metadata": {},
   "source": [
    "## 12. Paralel Programlama ve Çoklu İşlem\n",
    "\n",
    "Python'da paralel programlama yaparak, aynı anda birden fazla işlem yapmamızı sağlayan modüller mevcuttur. Bunlar arasında `threading`, `multiprocessing` gibi modüller bulunur.\n",
    "\n",
    "**Örnek:**\n",
    "```python\n",
    "import multiprocessing\n",
    "\n",
    "def kare(sayi):\n",
    "    print(sayi ** 2)\n",
    "\n",
    "if __name__ == \"__main__\":\n",
    "    sayilar = [1, 2, 3, 4, 5]\n",
    "    processes = []\n",
    "\n",
    "    for sayi in sayilar:\n",
    "        p = multiprocessing.Process(target=kare, args=(sayi,))\n",
    "        processes.append(p)\n",
    "        p.start()\n",
    "\n",
    "    for p in processes:\n",
    "        p.join()\n"
   ]
  },
  {
   "cell_type": "code",
   "execution_count": 8,
   "id": "abc9cf10",
   "metadata": {},
   "outputs": [],
   "source": [
    "import multiprocessing\n",
    "\n",
    "# Kare hesaplama fonksiyonu\n",
    "def kare(sayi, q):\n",
    "    sonuc = sayi ** 2\n",
    "    q.put((sayi, sonuc))  # Sonucu queue'ya gönder\n",
    "\n",
    "if __name__ == \"__main__\":\n",
    "    # İşlem yapılacak sayılar\n",
    "    sayilar = [1, 2, 3, 4, 5]\n",
    "    \n",
    "    # Paralel işlemler için boş bir liste\n",
    "    processes = []\n",
    "    \n",
    "    # Queue nesnesi (işlem sonuçlarını almak için)\n",
    "    q = multiprocessing.Queue()\n",
    "\n",
    "    # Her bir sayıyı paralel olarak işle\n",
    "    for sayi in sayilar:\n",
    "        p = multiprocessing.Process(target=kare, args=(sayi, q))\n",
    "        processes.append(p)\n",
    "        p.start()  # İşlemi başlat\n",
    "\n",
    "    # Her bir işlemin tamamlanmasını bekle\n",
    "    for p in processes:\n",
    "        p.join()\n",
    "\n",
    "    # Queue'dan sonuçları al ve ekrana yazdır\n",
    "    while not q.empty():\n",
    "        sayi, sonuc = q.get()\n",
    "        print(f\"İşlem: {sayi}, Sonuç: {sonuc}\")\n"
   ]
  },
  {
   "cell_type": "markdown",
   "id": "078d9bb3",
   "metadata": {},
   "source": []
  },
  {
   "cell_type": "code",
   "execution_count": 7,
   "id": "21c30eb9",
   "metadata": {},
   "outputs": [
    {
     "name": "stdout",
     "output_type": "stream",
     "text": [
      "Sonuç: 20000\n"
     ]
    }
   ],
   "source": [
    "import threading\n",
    "\n",
    "# Paylaşılan kaynak\n",
    "count = 0\n",
    "lock = threading.Lock()\n",
    "\n",
    "def increment():\n",
    "    global count\n",
    "    for _ in range(10000):\n",
    "        with lock:  # Kritik bölgeye giriş\n",
    "            count += 1\n",
    "\n",
    "# İki thread başlatıyoruz\n",
    "thread1 = threading.Thread(target=increment)\n",
    "thread2 = threading.Thread(target=increment)\n",
    "\n",
    "thread1.start()\n",
    "thread2.start()\n",
    "\n",
    "thread1.join()\n",
    "thread2.join()\n",
    "\n",
    "print(\"Sonuç:\", count)  # Sonuç 20000 olmalı\n"
   ]
  }
 ],
 "metadata": {
  "kernelspec": {
   "display_name": "yolov8_udemy",
   "language": "python",
   "name": "python3"
  },
  "language_info": {
   "codemirror_mode": {
    "name": "ipython",
    "version": 3
   },
   "file_extension": ".py",
   "mimetype": "text/x-python",
   "name": "python",
   "nbconvert_exporter": "python",
   "pygments_lexer": "ipython3",
   "version": "3.10.14"
  }
 },
 "nbformat": 4,
 "nbformat_minor": 5
}
